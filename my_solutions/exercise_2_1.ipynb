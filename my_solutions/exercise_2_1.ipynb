{
  "nbformat": 4,
  "nbformat_minor": 0,
  "metadata": {
    "colab": {
      "name": "Spinup_Exercise_2.1.ipynb",
      "version": "0.3.2",
      "provenance": [],
      "collapsed_sections": []
    },
    "kernelspec": {
      "name": "python3",
      "display_name": "Python 3"
    },
    "accelerator": "GPU"
  },
  "cells": [
    {
      "metadata": {
        "id": "jpSuJDBvBn2p",
        "colab_type": "text"
      },
      "cell_type": "markdown",
      "source": [
        "Running OpenAI's Spinup exercise 2.1 in Google Colab.\n",
        "\n",
        "See: https://spinningup.openai.com/en/latest/spinningup/exercises.html#problem-set-2-algorithm-failure-modes"
      ]
    },
    {
      "metadata": {
        "id": "Z_vi1tWaviP6",
        "colab_type": "code",
        "colab": {}
      },
      "cell_type": "code",
      "source": [
        "!pip -q install gym[atari,box2d,classic_control]\n",
        "!apt-get -qq update\n",
        "!apt-get -qq install libopenmpi-dev\n",
        "print( \"Cloning spinup\" )\n",
        "!rm -rf spinningup\n",
        "!git clone -q https://github.com/openai/spinningup.git\n",
        "print( \"Installing spinup\" )\n",
        "!cd spinningup && pip -q install -e ."
      ],
      "execution_count": 0,
      "outputs": []
    },
    {
      "metadata": {
        "id": "uvGDHbZtWOJm",
        "colab_type": "code",
        "colab": {}
      },
      "cell_type": "code",
      "source": [
        "import sys\n",
        "import tensorflow as tf\n",
        "import numpy as np\n",
        "import spinup\n",
        "import gym\n",
        "import time\n",
        "from spinup.algos.trpo import trpo\n",
        "from spinup.algos.trpo import core\n",
        "from spinup.utils.logx import EpochLogger\n",
        "from spinup.run import parse_and_execute_grid_search"
      ],
      "execution_count": 0,
      "outputs": []
    },
    {
      "metadata": {
        "id": "speIULcJje4s",
        "colab_type": "code",
        "colab": {}
      },
      "cell_type": "code",
      "source": [
        "def pythonVersionString():\n",
        "    \"\"\"Current system python version as string major.minor.micro [(alpha|beta|etc)]\"\"\"\n",
        "    vstring = \"{0}.{1}.{2}\".format(sys.version_info.major, sys.version_info.minor, sys.version_info.micro)\n",
        "    if sys.version_info.releaselevel != \"final\":\n",
        "        vstring += \" ({})\".format( sys.version_info.releaselevel )\n",
        "    if sys.version_info.serial != 0:\n",
        "        vstring += \" (serial: {})\".format( sys.version_info.serial )\n",
        "    return vstring\n",
        "\n",
        "print( \"{}: {}\".format( \"Python\", pythonVersionString() ) )\n",
        "print( \"{}: {}\".format( tf.__name__, tf.__version__) )\n",
        "print( \"{}: {}\".format( np.__name__, np.__version__) )\n",
        "print( \"{}: {}\".format( gym.__name__, gym.__version__) )\n",
        "print( \"{}: {}\".format( spinup.__name__, spinup.__version__) )"
      ],
      "execution_count": 0,
      "outputs": []
    },
    {
      "metadata": {
        "id": "nZWr67sKR-2b",
        "colab_type": "code",
        "colab": {}
      },
      "cell_type": "code",
      "source": [
        "# python -m spinup.run trpo --env Hopper-v2 --train_v_iters[v] 0 80 --exp_name ex2-1 --epochs 250 --steps_per_epoch 4000 --seed 0 10 20 --dt\n",
        "\n",
        "def test():\n",
        "    argv = [\"--env_name\", \"LunarLanderContinuous-v2\", \"--train_v_iters[v]\", \"0\", \"80\", \"--exp_name\", \"ex2-1\", \"--epochs\", \"250\", \"--steps_per_epoch\", \"4000\", \"--seed\", \"0\", \"10\", \"20\", \"--dt\"]\n",
        "    parse_and_execute_grid_search( \"trpo\", argv )\n",
        "    \n",
        "#tf.reset_default_graph()\n",
        "test()"
      ],
      "execution_count": 0,
      "outputs": []
    },
    {
      "metadata": {
        "id": "bwvlk7xYB_X8",
        "colab_type": "text"
      },
      "cell_type": "markdown",
      "source": [
        "Figuring out how to save and restore the log files to/from Google Drive."
      ]
    },
    {
      "metadata": {
        "id": "oSjOE7LlrDK4",
        "colab_type": "code",
        "colab": {}
      },
      "cell_type": "code",
      "source": [
        "# From: https://colab.research.google.com/notebooks/io.ipynb\n",
        "\n",
        "#from google.colab import files\n",
        "\n",
        "filelist = [\n",
        "    \"/content/spinningup/data/2018-12-19_ex2-1_v0/2018-12-19_16-16-32-ex2-1_v0_s0\",\n",
        "    \"/content/spinningup/data/2018-12-19_ex2-1_v80/2018-12-19_17-11-24-ex2-1_v80_s0\",\n",
        "    \"/content/spinningup/data/2018-12-19_ex2-1_v0/2018-12-19_18-09-20-ex2-1_v0_s10\",\n",
        "    \"/content/spinningup/data/2018-12-19_ex2-1_v80/2018-12-19_19-14-33-ex2-1_v80_s10\",\n",
        "    \"/content/spinningup/data/2018-12-19_ex2-1_v0/2018-12-19_20-22-41-ex2-1_v0_s20\",\n",
        "    \"/content/spinningup/data/2018-12-19_ex2-1_v80/2018-12-19_21-27-51-ex2-1_v80_s20\"\n",
        "    ]\n",
        "\n",
        "#for afile in filelist:\n",
        "#    files.download(afile)\n",
        "#files.download(\"/content/spinningup/data.tgz\")\n",
        "\n",
        "from google.colab import drive\n",
        "drive.mount('/content/gdrive')"
      ],
      "execution_count": 0,
      "outputs": []
    },
    {
      "metadata": {
        "id": "kdEGgnEdrwwg",
        "colab_type": "code",
        "colab": {}
      },
      "cell_type": "code",
      "source": [
        "# Save logged data to gdrive\n",
        "#!tar -czf /content/spinningup/data.tgz /content/spinningup/data\n",
        "#!cp /content/spinningup/data.tgz \"/content/gdrive/My Drive/spinup/\"\n",
        "\n",
        "# Restore logged data from gdrive\n",
        "#!mkdir /content/spinningup\n",
        "#!rm -r /content/spinningup/content\n",
        "!cd / && tar -xzf \"/content/gdrive/My Drive/spinup/data.tgz\"\n",
        "# !ls /content\n",
        "# !ls /content/spinningup\n",
        "# !ls /content/spinningup/content\n",
        "# !ls /content/spinningup/content/spinningup"
      ],
      "execution_count": 0,
      "outputs": []
    },
    {
      "metadata": {
        "id": "rhMKqBlSymEQ",
        "colab_type": "code",
        "colab": {}
      },
      "cell_type": "code",
      "source": [
        "from spinup.utils.plot import make_plots\n",
        "\n",
        "import argparse\n",
        "parser = argparse.ArgumentParser()\n",
        "parser.add_argument('logdir', nargs='*')\n",
        "parser.add_argument('--legend', '-l', nargs='*')\n",
        "parser.add_argument('--xaxis', '-x', default='TotalEnvInteracts')\n",
        "parser.add_argument('--value', '-y', default='Performance', nargs='*')\n",
        "parser.add_argument('--count', action='store_true')\n",
        "parser.add_argument('--smooth', '-s', type=int, default=1)\n",
        "parser.add_argument('--select', nargs='*')\n",
        "parser.add_argument('--exclude', nargs='*')\n",
        "parser.add_argument('--est', default='mean')\n",
        "args = parser.parse_args([\"/content/spinningup/data/2018-12-19_ex2-1_v80/2018-12-19_17-11-24-ex2-1_v80_s0\"])\n",
        "\n",
        "make_plots(filelist, args.legend, args.xaxis, args.value, args.count, \n",
        "               smooth=args.smooth, select=args.select, exclude=args.exclude,\n",
        "               estimator=args.est)\n"
      ],
      "execution_count": 0,
      "outputs": []
    }
  ]
}